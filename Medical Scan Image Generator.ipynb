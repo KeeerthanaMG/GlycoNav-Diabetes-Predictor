{
 "cells": [
  {
   "cell_type": "code",
   "execution_count": 2,
   "id": "2daf20ca",
   "metadata": {},
   "outputs": [
    {
     "name": "stdout",
     "output_type": "stream",
     "text": [
      "Image generated and saved successfully.\n"
     ]
    }
   ],
   "source": [
    "import cv2\n",
    "import numpy as np\n",
    "from PIL import Image, ImageDraw, ImageFont\n",
    "\n",
    "# Define the variables\n",
    "pregnancies = int(input())\n",
    "glucose = int(input())\n",
    "blood_pressure = int(input())\n",
    "skin_thickness = int(input())\n",
    "insulin = int(input())\n",
    "bmi = float(input())\n",
    "diabetes_pedigree = float(input())\n",
    "age = int(input())\n",
    "\n",
    "# Set up image dimensions and font properties\n",
    "image_width = 600\n",
    "image_height = 400\n",
    "font_size_header = 30\n",
    "font_size_data = 20\n",
    "font_path = 'arial.ttf'  # Path to the font file (e.g., 'arial.ttf')\n",
    "\n",
    "# Create a blank image\n",
    "image = np.ones((image_height, image_width, 3), np.uint8) * 255\n",
    "image_pil = Image.fromarray(image)\n",
    "draw = ImageDraw.Draw(image_pil)\n",
    "font_header = ImageFont.truetype(font_path, font_size_header)\n",
    "font_data = ImageFont.truetype(font_path, font_size_data)\n",
    "\n",
    "# Define the text and positions for data\n",
    "text_data = [\n",
    "    ('Pregnancies:', str(pregnancies), (50, 100)),\n",
    "    ('Glucose:', str(glucose), (50, 130)),\n",
    "    ('Blood Pressure:', str(blood_pressure), (50, 160)),\n",
    "    ('Skin Thickness:', str(skin_thickness), (50, 190)),\n",
    "    ('Insulin:', str(insulin), (50, 220)),\n",
    "    ('BMI:', str(bmi), (50, 250)),\n",
    "    ('Diabetes Pedigree Function:', str(diabetes_pedigree), (50, 280)),\n",
    "    ('Age:', str(age), (50, 310))\n",
    "]\n",
    "\n",
    "# Draw the text on the image\n",
    "for label, value, position in text_data:\n",
    "    draw.text(position, f'{label} {value}', font=font_data, fill=(0, 0, 0))\n",
    "\n",
    "# Convert the PIL image back to OpenCV format\n",
    "image = np.array(image_pil)\n",
    "\n",
    "# Save the image as PNG\n",
    "image_path = 'medical_report.png'\n",
    "cv2.imwrite(image_path, image)\n",
    "\n",
    "print('Image generated and saved successfully.')"
   ]
  },
  {
   "cell_type": "code",
   "execution_count": null,
   "id": "4c585c30",
   "metadata": {},
   "outputs": [],
   "source": []
  }
 ],
 "metadata": {
  "kernelspec": {
   "display_name": "Python 3",
   "language": "python",
   "name": "python3"
  },
  "language_info": {
   "codemirror_mode": {
    "name": "ipython",
    "version": 3
   },
   "file_extension": ".py",
   "mimetype": "text/x-python",
   "name": "python",
   "nbconvert_exporter": "python",
   "pygments_lexer": "ipython3",
   "version": "3.11.3"
  }
 },
 "nbformat": 4,
 "nbformat_minor": 5
}
